{
  "nbformat": 4,
  "nbformat_minor": 0,
  "metadata": {
    "colab": {
      "name": "segmentasi.ipynb",
      "provenance": []
    },
    "kernelspec": {
      "name": "python3",
      "display_name": "Python 3"
    },
    "language_info": {
      "name": "python"
    }
  },
  "cells": [
    {
      "cell_type": "code",
      "execution_count": 6,
      "metadata": {
        "id": "fke6AylS8OzC"
      },
      "outputs": [],
      "source": [
        "import cv2\n",
        "import numpy as np\n",
        "import matplotlib.pyplot as plt"
      ]
    },
    {
      "cell_type": "markdown",
      "source": [
        "light_orange=(1,190,200)\n",
        "\n",
        "dark_orange =(18, 255, 255)"
      ],
      "metadata": {
        "id": "wfxKfzAj8Xgv"
      }
    },
    {
      "cell_type": "code",
      "source": [
        ""
      ],
      "metadata": {
        "id": "x9hkm6xJ-Fpv"
      },
      "execution_count": 6,
      "outputs": []
    },
    {
      "cell_type": "markdown",
      "source": [
        "man=cv2.imread('man.jpg')\n",
        "\n",
        "man=cv2.cvtColor(man,cv2.COLOR_BGR2RGB)\n",
        "\n",
        "hsv_man=cv2.cvtColor(man, cv2.COLOR_RGB2HSV)"
      ],
      "metadata": {
        "id": "riT2Ak5V8VOk"
      }
    },
    {
      "cell_type": "markdown",
      "source": [
        "mask=cv2.inRange(hsv_man,light_orange,dark_orange)\n",
        "\n",
        "result=cv2.bitwise_and(man,man, mask=mask)"
      ],
      "metadata": {
        "id": "55I6j3yk8Z5h"
      }
    },
    {
      "cell_type": "markdown",
      "source": [
        "plt.subplot(1,4,1)\n",
        "plt.imshow(man)\n",
        "plt.subplot(1,4,2)\n",
        "plt.imshow(hsv_man)\n",
        "plt.subplot(1,4,3)\n",
        "plt.imshow(mask)\n",
        "plt.subplot(1,4,4)\n",
        "plt.imshow(result)\n",
        "plt.show()"
      ],
      "metadata": {
        "id": "jkxLjeTF8fY-"
      }
    },
    {
      "cell_type": "markdown",
      "source": [
        "# Bagian Baru"
      ],
      "metadata": {
        "id": "qi8QIlZx-puk"
      }
    }
  ]
}